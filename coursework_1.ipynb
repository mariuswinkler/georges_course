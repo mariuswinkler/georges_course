{
 "cells": [
  {
   "cell_type": "code",
   "execution_count": 11,
   "id": "ecd927c4-4631-4a8b-9b2c-c0cc52f3d38b",
   "metadata": {},
   "outputs": [
    {
     "name": "stdout",
     "output_type": "stream",
     "text": [
      "[False False  True  True  True  True  True  True  True  True]\n"
     ]
    },
    {
     "ename": "NameError",
     "evalue": "name 'f' is not defined",
     "output_type": "error",
     "traceback": [
      "\u001b[0;31m---------------------------------------------------------------------------\u001b[0m",
      "\u001b[0;31mNameError\u001b[0m                                 Traceback (most recent call last)",
      "Input \u001b[0;32mIn [11]\u001b[0m, in \u001b[0;36m<cell line: 60>\u001b[0;34m()\u001b[0m\n\u001b[1;32m     57\u001b[0m     \u001b[38;5;28;01massert\u001b[39;00m \u001b[38;5;28mlen\u001b[39m(eratosthenis_sieve(\u001b[38;5;241m100\u001b[39m)) \u001b[38;5;241m==\u001b[39m \u001b[38;5;241m25\u001b[39m, \u001b[38;5;124m\"\u001b[39m\u001b[38;5;124mThere are 25 primes until 100.\u001b[39m\u001b[38;5;124m\"\u001b[39m\n\u001b[1;32m     60\u001b[0m \u001b[38;5;28;01mif\u001b[39;00m \u001b[38;5;18m__name__\u001b[39m \u001b[38;5;241m==\u001b[39m \u001b[38;5;124m\"\u001b[39m\u001b[38;5;124m__main__\u001b[39m\u001b[38;5;124m\"\u001b[39m:\n\u001b[0;32m---> 61\u001b[0m     \u001b[38;5;28mprint\u001b[39m(\u001b[43meratosthenis_sieve\u001b[49m\u001b[43m(\u001b[49m\u001b[38;5;241;43m10\u001b[39;49m\u001b[43m)\u001b[49m)\n",
      "Input \u001b[0;32mIn [11]\u001b[0m, in \u001b[0;36meratosthenis_sieve\u001b[0;34m(N)\u001b[0m\n\u001b[1;32m     30\u001b[0m \u001b[38;5;28mprint\u001b[39m(f)\n\u001b[1;32m     31\u001b[0m \u001b[38;5;66;03m# sieve\u001b[39;00m\n\u001b[0;32m---> 32\u001b[0m \u001b[43msieve_f\u001b[49m\u001b[43m(\u001b[49m\u001b[43mN\u001b[49m\u001b[43m,\u001b[49m\u001b[43m \u001b[49m\u001b[43mf\u001b[49m\u001b[43m)\u001b[49m\n\u001b[1;32m     34\u001b[0m \u001b[38;5;66;03m# how many primes are there\u001b[39;00m\n\u001b[1;32m     35\u001b[0m count \u001b[38;5;241m=\u001b[39m \u001b[38;5;241m0\u001b[39m\n",
      "Input \u001b[0;32mIn [11]\u001b[0m, in \u001b[0;36msieve_f\u001b[0;34m(N, bool_array)\u001b[0m\n\u001b[1;32m     13\u001b[0m \u001b[38;5;28;01mdef\u001b[39;00m \u001b[38;5;21msieve_f\u001b[39m(N, bool_array):\n\u001b[1;32m     14\u001b[0m     \u001b[38;5;28;01mfor\u001b[39;00m i \u001b[38;5;129;01min\u001b[39;00m \u001b[38;5;28mrange\u001b[39m(\u001b[38;5;28mint\u001b[39m(np\u001b[38;5;241m.\u001b[39mround(np\u001b[38;5;241m.\u001b[39msqrt(N) \u001b[38;5;241m+\u001b[39m \u001b[38;5;241m1\u001b[39m))):\n\u001b[0;32m---> 15\u001b[0m         \u001b[38;5;28;01mif\u001b[39;00m \u001b[43mf\u001b[49m[i]:  \u001b[38;5;66;03m# if i is uncrossed, cross its multiples\u001b[39;00m\n\u001b[1;32m     16\u001b[0m             \u001b[38;5;28;01mfor\u001b[39;00m j \u001b[38;5;129;01min\u001b[39;00m \u001b[38;5;28mrange\u001b[39m(i\u001b[38;5;241m*\u001b[39m\u001b[38;5;241m*\u001b[39m\u001b[38;5;241m2\u001b[39m, N, i):\n\u001b[1;32m     17\u001b[0m                 f[j] \u001b[38;5;241m=\u001b[39m \u001b[38;5;28;01mFalse\u001b[39;00m  \u001b[38;5;66;03m# multiple is not a prime\u001b[39;00m\n",
      "\u001b[0;31mNameError\u001b[0m: name 'f' is not defined"
     ]
    }
   ],
   "source": [
    "# This function generates prime numbers up to a user specified maximum `N`.\n",
    "# The algorithm used is the Sieve of Eratosthenes.\n",
    "# It is quite simple. Given an array of integers from 1 to `N`, cross out all multiples\n",
    "# of 2. Find the next uncrossed integer, and cross out all of its multiples.\n",
    "# Repeat until you have passed the square root of `N`.\n",
    "# The uncrossed numbers that remain are all the primes less than `N`.\n",
    "\n",
    "# quick notice: this is a verbatic port of a Java code to Python,\n",
    "# and as such it is unreasonably low level.\n",
    "import numpy as np\n",
    "\n",
    "\n",
    "def sieve_f(N, bool_array):\n",
    "    for i in range(int(np.round(np.sqrt(N) + 1))):\n",
    "        if f[i]:  # if i is uncrossed, cross its multiples\n",
    "            for j in range(i**2, N, i):\n",
    "                f[j] = False  # multiple is not a prime\n",
    "    return \n",
    "\n",
    "\n",
    "def eratosthenis_sieve(N):\n",
    "    if N >= 2:  # the only valid case\n",
    "        # Declerations:\n",
    "        # initialize array to true\n",
    "        f = np.ones(N, dtype=bool)\n",
    "\n",
    "        # get rid of known non-primes\n",
    "        f[:2] = False\n",
    "        \n",
    "        print(f)\n",
    "        # sieve\n",
    "        sieve_f(N, f)\n",
    "\n",
    "        # how many primes are there\n",
    "        \n",
    "        count = 0\n",
    "        for i in range(N):\n",
    "            if f[i]:\n",
    "                count += 1\n",
    "\n",
    "        primes = np.zeros(count)\n",
    "\n",
    "        # move the primes into the result\n",
    "        j = 0\n",
    "        for i in range(N):\n",
    "            if f[i]:  # if prime\n",
    "                primes[j] = i\n",
    "                j += 1\n",
    "        return primes  # return the primes\n",
    "    else:  # if N < 2\n",
    "        return np.empty(0)  # return null array if bad imput\n",
    "\n",
    "\n",
    "def test_primes():\n",
    "    assert 0 not in eratosthenis_sieve(10), \"0 is not a prime.\"\n",
    "    assert 1 not in eratosthenis_sieve(10), \"1 is not a prime.\"\n",
    "    assert len(eratosthenis_sieve(10)) == 4, \"There are four primes until 10.\"\n",
    "    assert len(eratosthenis_sieve(100)) == 25, \"There are 25 primes until 100.\"\n",
    "\n",
    "\n",
    "if __name__ == \"__main__\":\n",
    "    print(eratosthenis_sieve(10))"
   ]
  },
  {
   "cell_type": "code",
   "execution_count": null,
   "id": "cbc5ca82-6311-4c57-af16-f44c14450653",
   "metadata": {},
   "outputs": [],
   "source": []
  }
 ],
 "metadata": {
  "kernelspec": {
   "display_name": "Python 3 (based on the module python3/2022.01)",
   "language": "python",
   "name": "python3_2022_01"
  },
  "language_info": {
   "codemirror_mode": {
    "name": "ipython",
    "version": 3
   },
   "file_extension": ".py",
   "mimetype": "text/x-python",
   "name": "python",
   "nbconvert_exporter": "python",
   "pygments_lexer": "ipython3",
   "version": "3.9.9"
  }
 },
 "nbformat": 4,
 "nbformat_minor": 5
}
