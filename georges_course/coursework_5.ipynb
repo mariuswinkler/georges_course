{
 "cells": [
  {
   "cell_type": "markdown",
   "id": "9a78fdec-21e9-4d86-b0f5-91b3d142639a",
   "metadata": {},
   "source": [
    "# Temporal Means\n",
    "\n",
    "This script computes the running mean of a given dataset"
   ]
  },
  {
   "cell_type": "markdown",
   "id": "12539655-9985-4cb8-85b8-509449a82066",
   "metadata": {},
   "source": [
    "### Importing libraries"
   ]
  },
  {
   "cell_type": "code",
   "execution_count": null,
   "id": "a39539e2-8d11-454b-9e30-0b305251ff90",
   "metadata": {},
   "outputs": [],
   "source": [
    "import numpy as np\n",
    "import matplotlib.pyplot as plt"
   ]
  },
  {
   "cell_type": "code",
   "execution_count": null,
   "id": "c0370bb5-b0ee-442f-98f5-757ffa109945",
   "metadata": {},
   "outputs": [],
   "source": [
    "#Function to compute the running mean\n",
    "#input: \n",
    "#1. x = data which we compute the running mean on,\n",
    "#2. win_size = choosen window size for running mean\n",
    "#output:\n",
    "#computes the linear convolution \n",
    "\n",
    "def running_mean(x, win_size):\n",
    "    w = win_size\n",
    "    return np.convolve(x, np.ones(w) / w, mode=\"valid\")"
   ]
  },
  {
   "cell_type": "code",
   "execution_count": null,
   "id": "0aeb1f3d-c26a-4d7b-b3b0-f19e4a1877f5",
   "metadata": {},
   "outputs": [],
   "source": [
    "def running_mean(x, win_size, win_type=np.ones):\n",
    "    w = win_type(win_size)\n",
    "    return np.convolve(x, w / w.sum(), mode=\"valid\")\n",
    "\n",
    "\n",
    "def running_mean(x, win_size, win_type=np.ones, aggregation=None):\n",
    "    w = win_type(win_size)\n",
    "\n",
    "    if aggregation is None:\n",
    "        # In the default case, we can use fast Fourier transform\n",
    "        return np.convolve(x, w / w.sum(), mode=\"valid\")\n",
    "    else:\n",
    "        # In the generic case, we have to group our array which is slower.\n",
    "        # Therefore, it is good to have a separate API (i.e. keyword) for this case.\n",
    "        return aggregation(\n",
    "            np.lib.stride_tricks.sliding_window_view(x, win_size) * w,\n",
    "            axis=1,\n",
    "        ) / w.mean()\n",
    "\n",
    "\n",
    "def main():\n",
    "    windows = (\n",
    "        np.ones,\n",
    "        np.bartlett,\n",
    "        np.blackman,\n",
    "        np.hamming,\n",
    "    )\n",
    "\n",
    "    np.random.seed(1)\n",
    "    x = np.random.randn(256) + 2\n",
    "\n",
    "    fig, ax = plt.subplots(figsize=(10, 6))\n",
    "    ax.plot(x, c=\"grey\")\n",
    "    for window in windows:\n",
    "        ax.plot(\n",
    "            running_mean(x, win_size=16, win_type=window),\n",
    "            linewidth=2,\n",
    "            label=window.__name__.capitalize(),\n",
    "        )\n",
    "    ax.legend()\n",
    "    ax.set_ylim(np.percentile(x, [5, 95]))\n",
    "\n",
    "    plt.show()\n",
    "\n",
    "\n",
    "if __name__ == \"__main__\":\n",
    "    main()"
   ]
  }
 ],
 "metadata": {
  "kernelspec": {
   "display_name": "Python 3 (based on the module python3/2022.01)",
   "language": "python",
   "name": "python3_2022_01"
  },
  "language_info": {
   "codemirror_mode": {
    "name": "ipython",
    "version": 3
   },
   "file_extension": ".py",
   "mimetype": "text/x-python",
   "name": "python",
   "nbconvert_exporter": "python",
   "pygments_lexer": "ipython3",
   "version": "3.9.9"
  }
 },
 "nbformat": 4,
 "nbformat_minor": 5
}
